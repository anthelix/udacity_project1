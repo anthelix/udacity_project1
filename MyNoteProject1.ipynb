{
 "cells": [
  {
   "cell_type": "markdown",
   "metadata": {},
   "source": [
    "## Explore the data"
   ]
  },
  {
   "cell_type": "code",
   "execution_count": 1,
   "metadata": {},
   "outputs": [],
   "source": [
    "import pandas as pd\n",
    "import json\n",
    "import glob\n",
    "import os\n",
    "import io\n",
    "#import os.path"
   ]
  },
  {
   "cell_type": "code",
   "execution_count": null,
   "metadata": {},
   "outputs": [],
   "source": [
    "def getIndexes(dfObj, value):\n",
    "    ''' Get index positions of value in dataframe i.e. dfObj.'''\n",
    " \n",
    "    listOfPos = []\n",
    "    # Get bool dataframe with True at positions where the given value exists\n",
    "    result = dfObj.isin([value])\n",
    "    # Get list of columns that contains the value\n",
    "    seriesObj = result.any()\n",
    "    columnNames = seriesObj[seriesObj == True].index.tolist()\n",
    "    # Iterate over list of columns and fetch the rows indexes where value exists\n",
    "    for col in columnNames:\n",
    "        rows = result[col][result[col] == True].index.tolist()\n",
    "        for row in rows:\n",
    "            listOfPos.append((row))\n",
    "    # Return a list of tuples indicating the positions of value in the dataframe\n",
    "    return listOfPos"
   ]
  },
  {
   "cell_type": "code",
   "execution_count": null,
   "metadata": {},
   "outputs": [],
   "source": [
    "def get_files(filepath):\n",
    "    all_files = []\n",
    "    for root, dirs, files in os.walk(filepath):\n",
    "        files = glob.glob(os.path.join(root,'*.json'))\n",
    "        for f in files :\n",
    "            all_files.append(os.path.abspath(f))\n",
    "    \n",
    "    return all_files"
   ]
  },
  {
   "cell_type": "markdown",
   "metadata": {},
   "source": [
    "## Exploration SONG_DATA"
   ]
  },
  {
   "cell_type": "code",
   "execution_count": null,
   "metadata": {},
   "outputs": [],
   "source": [
    "data_raw =[]\n",
    "folder_path = \"data/song_data\"\n",
    "for path, dirs, files in os.walk(folder_path):\n",
    "    for filename in files:\n",
    "        Mypath_filename = os.path.join(path, filename)\n",
    "        with open(Mypath_filename) as f:\n",
    "            data = json.load(f)\n",
    "        data_raw.append(data)\n",
    "dataSong = pd.DataFrame(data_raw)\n",
    "dataSong.head(2)\n"
   ]
  },
  {
   "cell_type": "code",
   "execution_count": null,
   "metadata": {},
   "outputs": [],
   "source": [
    "data_raw =[]\n",
    "folder_path = \"data/song_data\"\n",
    "for path, dirs, files in os.walk(folder_path):\n",
    "    for filename in files:\n",
    "        Mypath_filename = os.path.join(path, filename)\n",
    "        data_raw.append(Mypath_filename)"
   ]
  },
  {
   "cell_type": "code",
   "execution_count": null,
   "metadata": {
    "scrolled": false
   },
   "outputs": [],
   "source": [
    "print(\"DataSong Set Shape --> {}\".format(dataSong.shape))\n",
    "lines = !find ./data/song_data -name \\*.json | wc -l\n",
    "print(\"DataSong Set nb ligne in ./Data --> {}\".format(lines))\n",
    "print(\"DataSong Set Types --> \\n{}:\".format(dataSong.dtypes))\n",
    "# compter la repetition des valeurs \n",
    "print(\"DataSong Set values \\n{}\".format(dataSong.title.value_counts()))\n"
   ]
  },
  {
   "cell_type": "code",
   "execution_count": null,
   "metadata": {},
   "outputs": [],
   "source": [
    "dataSong.describe(include='all')"
   ]
  },
  {
   "cell_type": "code",
   "execution_count": null,
   "metadata": {},
   "outputs": [],
   "source": [
    "dataSong.info()"
   ]
  },
  {
   "cell_type": "markdown",
   "metadata": {},
   "source": [
    "### In this dataset about artist and their songs:  \n",
    "    * 71 lines\n",
    "    * non-value in artist_id, artist_location, song_id, title, duration, year\n",
    "    * 2 artist_id et artist_name apparaissent 2 fois: ARNTLGG11E2835DDB9 et ARD7TVE1187B99BFB1 mais avec des titres de chansons differents."
   ]
  },
  {
   "cell_type": "markdown",
   "metadata": {},
   "source": [
    "## Exploration LOG_DATA"
   ]
  },
  {
   "cell_type": "code",
   "execution_count": null,
   "metadata": {},
   "outputs": [],
   "source": [
    "json_files = []\n",
    "for dirpath, dirnames, filenames in os.walk(\"./data/log_data/\"):\n",
    "    for filename in [f for f in filenames if f.endswith(\".json\")]:\n",
    "        path_file = os.path.join(dirpath, filename)\n",
    "        json_files.append(path_file)\n"
   ]
  },
  {
   "cell_type": "code",
   "execution_count": null,
   "metadata": {
    "scrolled": true
   },
   "outputs": [],
   "source": [
    "#df = pd.read_json(filepath, lines=True)\n",
    "import json\n",
    "data_raw = []\n",
    "for filepath in json_files:\n",
    "    for line in open(filepath, 'r'):\n",
    "        data_raw.append(json.loads(line))\n",
    "dataLog = pd.DataFrame(data_raw)    \n",
    "dataLog.shape"
   ]
  },
  {
   "cell_type": "code",
   "execution_count": null,
   "metadata": {},
   "outputs": [],
   "source": []
  },
  {
   "cell_type": "code",
   "execution_count": null,
   "metadata": {},
   "outputs": [],
   "source": [
    "# firstLog"
   ]
  },
  {
   "cell_type": "code",
   "execution_count": null,
   "metadata": {
    "scrolled": true
   },
   "outputs": [],
   "source": [
    "dataLog.info()"
   ]
  },
  {
   "cell_type": "code",
   "execution_count": null,
   "metadata": {},
   "outputs": [],
   "source": [
    "del dataLog['status']\n",
    "del dataLog['auth']\n",
    "del dataLog['itemInSession']\n",
    "del dataLog['method']\n",
    "dataLog.head(2)\n",
    "dataLog.shape"
   ]
  },
  {
   "cell_type": "code",
   "execution_count": null,
   "metadata": {},
   "outputs": [],
   "source": [
    "dataLog.describe(include='all').head(4)"
   ]
  },
  {
   "cell_type": "code",
   "execution_count": null,
   "metadata": {},
   "outputs": [],
   "source": []
  },
  {
   "cell_type": "code",
   "execution_count": null,
   "metadata": {},
   "outputs": [],
   "source": [
    "# formater la date d'un timestamp miliseconde en y, m, d, s ...\n",
    "dataLog['ts'] = pd.to_datetime(dataLog['ts'], unit = 'ms')"
   ]
  },
  {
   "cell_type": "code",
   "execution_count": null,
   "metadata": {},
   "outputs": [],
   "source": [
    "print(dataLog.head(3))"
   ]
  },
  {
   "cell_type": "code",
   "execution_count": null,
   "metadata": {},
   "outputs": [],
   "source": [
    "num = []\n",
    "for i in range(len(dataSong['artist_name'])):\n",
    "    for j in range(len(dataLog['artist'])):\n",
    "        if dataSong['artist_name'][i] == dataLog['artist'][j]:\n",
    "            num.append(dataSong['artist_name'][i])\n",
    "            \n",
    "compte = {}.fromkeys(set(num),0)   \n",
    "for valeur in num:\n",
    "    compte[valeur] += 1\n",
    "print(\"*** Artists communsc au 2 dataset {}:\".format(compte))\n",
    "print(\"*** Il y a {} artistes communs aux 2 datasets\".format(len(compte)))"
   ]
  },
  {
   "cell_type": "code",
   "execution_count": null,
   "metadata": {},
   "outputs": [],
   "source": [
    "# liste des chanteurs communs aux 2 datasets\n",
    "list = [*compte]\n",
    "list"
   ]
  },
  {
   "cell_type": "code",
   "execution_count": null,
   "metadata": {},
   "outputs": [],
   "source": [
    "dic_artist = {}\n",
    "for i in dataLog['artist']:\n",
    "    if i in dic_artist:\n",
    "        dic_artist[i] += 1\n",
    "    else:\n",
    "        dic_artist[i] = 1\n",
    "print(\"Les artistes differents dans le dataLog sont au nombre de {}\".format(len(dic_artist.keys())))"
   ]
  },
  {
   "cell_type": "code",
   "execution_count": null,
   "metadata": {},
   "outputs": [],
   "source": [
    "for artist, freq in dic_artist.items():\n",
    "    if freq > 1:\n",
    "        print(artist, freq)"
   ]
  },
  {
   "cell_type": "markdown",
   "metadata": {},
   "source": [
    "\n",
    "\n",
    "\n"
   ]
  },
  {
   "cell_type": "markdown",
   "metadata": {},
   "source": [
    "# exploration for etl.py\n",
    "  \n",
    "  \n",
    "  "
   ]
  },
  {
   "cell_type": "code",
   "execution_count": null,
   "metadata": {},
   "outputs": [],
   "source": [
    "# un probleme de dataset dans la premiere partie me pousse a explorer un peu plus les datasets. \n",
    "# Il est demander de prendre la 1ere ligne de dataSong \n",
    "print(\"1ere ligne de datasong \\t\\t{}{}:\".format(d1['artist_name'], d1['title']))"
   ]
  },
  {
   "cell_type": "code",
   "execution_count": null,
   "metadata": {},
   "outputs": [],
   "source": [
    "# first row in datasong\n",
    "song_files = get_files('data/song_data')\n",
    "filepath = song_files[0]\n",
    "df_raw = pd.read_json(filepath, lines=True)\n",
    "artist_df = pd.DataFrame(df_raw)\n",
    "artist_df.head()\n",
    "#artist_df = df[['artist_id', 'artist_name', 'artist_location', 'artist_latitude', 'artist_longitude']].values[0].tolist()\n",
    "#artist_df"
   ]
  },
  {
   "cell_type": "code",
   "execution_count": null,
   "metadata": {},
   "outputs": [],
   "source": [
    "# Premier fichier des log data\n",
    "log_files = get_files('data/log_data')\n",
    "filepath = log_files[0]\n",
    "log_df = pd.read_json(filepath, lines=True)\n",
    "print(\"le nombre de lignes de fichiers {}:\".format(len(log_df)))\n",
    "log_df.head(2)"
   ]
  },
  {
   "cell_type": "code",
   "execution_count": null,
   "metadata": {},
   "outputs": [],
   "source": [
    "num = []\n",
    "for i in range(len(artist_df['artist_name'])):\n",
    "    for j in range(len(log_df['artist'])):\n",
    "        if artist_df['artist_name'][i] == log_df['artist'][j]:\n",
    "            num.append(artist_df['artist_name'][i])\n",
    "            \n",
    "compte = {}.fromkeys(set(num),0)   \n",
    "for valeur in num:\n",
    "    compte[valeur] += 1\n",
    "    \n",
    "print(\"*** Artists communsc au 2 dataset {}:\".format(compte))\n",
    "print(\"*** Il y a {} artistes communs aux 2 datasets\".format(len(compte)))"
   ]
  },
  {
   "cell_type": "markdown",
   "metadata": {},
   "source": [
    "L'exploration montre qu'il n'y a pas d'artist communs utilise pour l'etl entre les 2 fichiers impose par l'instruction. \n",
    "Est ce que l'artist 'Mitch Ryder' est dans les datalogs? "
   ]
  },
  {
   "cell_type": "code",
   "execution_count": null,
   "metadata": {
    "scrolled": true
   },
   "outputs": [],
   "source": [
    "# get the song path\n",
    "json_files_song =[]\n",
    "folder_path = \"data/song_data\"\n",
    "for path, dirs, files in os.walk(folder_path):\n",
    "    for filename in files:\n",
    "        mypath_filename = os.path.join(path, filename)\n",
    "        json_files_song.append(mypath_filename)\n",
    "\n",
    "# get the log path\n",
    "json_files_log = []\n",
    "for dirpath, dirnames, filenames in os.walk(\"./data/log_data/\"):\n",
    "    for filename in [f for f in filenames if f.endswith(\".json\")]:\n",
    "        path_file = os.path.join(dirpath, filename)\n",
    "        json_files_log.append(path_file)\n",
    "# trouver l'index dans dataLog ou se trouve les noms des artistes de 'list'\n",
    "for artist in list: \n",
    "    listOfPositions = getIndexes(dataSong, artist)\n",
    "    \n",
    "    for i in range(len(listOfPositions)):\n",
    "        print(artist, 'est a l\\'index: ', listOfPositions[i], 'de SongData')\n",
    "    \n",
    "    for filepath in json_files_song:\n",
    "        for line in open(filepath, 'r'):\n",
    "            if artist in line:\n",
    "                print(\"{}   est dans le dossier -->./{}\".format(artist, filepath))\n",
    "        \n",
    "    for filepath in json_files_log:\n",
    "        for line in open(filepath, 'r'):\n",
    "            if artist in line:\n",
    "                print(\"{}   est dans le dossier -->{}\".format(artist, filepath))\n",
    "    print('----------------')"
   ]
  },
  {
   "cell_type": "code",
   "execution_count": null,
   "metadata": {},
   "outputs": [],
   "source": []
  },
  {
   "cell_type": "markdown",
   "metadata": {},
   "source": [
    "### About artist and song\n",
    "num_songs = integer  (i don't know what is it)\n",
    "#artist_id = SONGPLAYS ARTISTS 'artist_id' text\n",
    "#artist_latitude = ARTISTS 'latitude' numeric\t\n",
    "#artist_longitude = ARTISTS 'longitude' numeric\n",
    "#artist_location =  ARTISTS 'location' text\t\n",
    "#artist_name = ARTISTS 'name' text\n",
    "#song_id = SONGPLAYS SONGS 'song_id' text\n",
    "#title = SONGS 'title' text\n",
    "#duration = SONGS 'duration' numeric\n",
    "#year = SONGS 'year' integer"
   ]
  },
  {
   "cell_type": "code",
   "execution_count": null,
   "metadata": {},
   "outputs": [],
   "source": []
  },
  {
   "cell_type": "code",
   "execution_count": null,
   "metadata": {},
   "outputs": [],
   "source": []
  },
  {
   "cell_type": "markdown",
   "metadata": {},
   "source": [
    "### About log\n",
    "artist = text  \n",
    "auth = text  \n",
    "#firstName = USERS 'first_name' text  \n",
    "#gender = USERS 'gender' text  \n",
    "itemInSession = interger  \n",
    "#lastName = USERS 'last_name' text  \t\n",
    "length = numeric  \n",
    "#level = SONGPLAYS USERS 'level' text  \n",
    "#location =\tSONGPLAYS 'location' text  \n",
    "method = text  \n",
    "page = text  \n",
    "registration = integer   \t\n",
    "#sessionId = SONGPLAYS 'session_id' integer  \n",
    "song = text  \n",
    "status = integer  \n",
    "#ts = SONGPLAYS TIME 'start_time' integer  \n",
    "#userAgent = SONGPLAYS 'user_agent' text  \n",
    "#userId = SONGPLAYS USERS 'user_id' integer  "
   ]
  },
  {
   "cell_type": "markdown",
   "metadata": {},
   "source": [
    "Apres analyse des donnees avec python, toutes les donnees a rentrer dans la table d'apres les 2 data set on ete trouve\n",
    "exepte:  \n",
    "* SONGPLAYS songplay_id\n",
    "* TIME hour\n",
    "* TIME day\n",
    "* TIME week\n",
    "* TIME month\n",
    "* TIME year\n",
    "* TIME weekday"
   ]
  },
  {
   "cell_type": "code",
   "execution_count": null,
   "metadata": {},
   "outputs": [],
   "source": []
  },
  {
   "cell_type": "code",
   "execution_count": null,
   "metadata": {},
   "outputs": [],
   "source": []
  }
 ],
 "metadata": {
  "kernelspec": {
   "display_name": "Python 3",
   "language": "python",
   "name": "python3"
  },
  "language_info": {
   "codemirror_mode": {
    "name": "ipython",
    "version": 3
   },
   "file_extension": ".py",
   "mimetype": "text/x-python",
   "name": "python",
   "nbconvert_exporter": "python",
   "pygments_lexer": "ipython3",
   "version": "3.6.6"
  }
 },
 "nbformat": 4,
 "nbformat_minor": 2
}
